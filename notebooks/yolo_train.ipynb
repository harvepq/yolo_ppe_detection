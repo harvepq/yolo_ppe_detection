{
 "cells": [
  {
   "cell_type": "markdown",
   "metadata": {},
   "source": [
    "# **YOLOv8 TRAINING**"
   ]
  },
  {
   "cell_type": "markdown",
   "metadata": {},
   "source": [
    "## **Initial configuration**"
   ]
  },
  {
   "cell_type": "markdown",
   "metadata": {},
   "source": [
    "**Install YOLOv8**\n",
    "**From pip**</br>\n",
    "`pip install \"ultralytics<=8.3.40\"`"
   ]
  },
  {
   "cell_type": "code",
   "execution_count": null,
   "metadata": {},
   "outputs": [],
   "source": [
    "#!pip install \"ultralytics<=8.3.40\"\n",
    "#!pip install ultralytics==8.2.103\n",
    "#!pip install roboflow==1.1.48\n",
    "#!pip install comet_ml==3.47.4"
   ]
  },
  {
   "cell_type": "markdown",
   "metadata": {},
   "source": [
    "**Import libraries**"
   ]
  },
  {
   "cell_type": "code",
   "execution_count": 3,
   "metadata": {},
   "outputs": [],
   "source": [
    "import comet_ml\n",
    "import os\n",
    "import roboflow\n",
    "import urllib.request\n",
    "import yaml\n",
    "\n",
    "from ultralytics import YOLO"
   ]
  },
  {
   "cell_type": "code",
   "execution_count": 4,
   "metadata": {},
   "outputs": [
    {
     "name": "stdout",
     "output_type": "stream",
     "text": [
      "Ultralytics YOLOv8.2.103 🚀 Python-3.12.7 torch-2.5.1+cu124 CUDA:0 (NVIDIA GeForce GTX 1050 Ti, 4034MiB)\n",
      "Setup complete ✅ (8 CPUs, 7.6 GB RAM, 60.3/294.2 GB disk)\n"
     ]
    }
   ],
   "source": [
    "from IPython import display\n",
    "display.clear_output()\n",
    "\n",
    "import ultralytics\n",
    "ultralytics.checks()"
   ]
  },
  {
   "cell_type": "markdown",
   "metadata": {},
   "source": [
    "**Operating system features**"
   ]
  },
  {
   "cell_type": "code",
   "execution_count": 5,
   "metadata": {},
   "outputs": [
    {
     "name": "stdout",
     "output_type": "stream",
     "text": [
      "PRETTY_NAME=\"Ubuntu 22.04.5 LTS\"\n",
      "NAME=\"Ubuntu\"\n",
      "VERSION_ID=\"22.04\"\n",
      "VERSION=\"22.04.5 LTS (Jammy Jellyfish)\"\n",
      "VERSION_CODENAME=jammy\n",
      "ID=ubuntu\n",
      "ID_LIKE=debian\n",
      "HOME_URL=\"https://www.ubuntu.com/\"\n",
      "SUPPORT_URL=\"https://help.ubuntu.com/\"\n",
      "BUG_REPORT_URL=\"https://bugs.launchpad.net/ubuntu/\"\n",
      "PRIVACY_POLICY_URL=\"https://www.ubuntu.com/legal/terms-and-policies/privacy-policy\"\n",
      "UBUNTU_CODENAME=jammy\n"
     ]
    }
   ],
   "source": [
    "!cat /etc/os-release"
   ]
  },
  {
   "cell_type": "markdown",
   "metadata": {},
   "source": [
    "**Graphics card characteristics**"
   ]
  },
  {
   "cell_type": "code",
   "execution_count": 6,
   "metadata": {},
   "outputs": [
    {
     "name": "stdout",
     "output_type": "stream",
     "text": [
      "Mon Jan 13 23:03:27 2025       \n",
      "+-----------------------------------------------------------------------------------------+\n",
      "| NVIDIA-SMI 560.35.05              Driver Version: 560.35.05      CUDA Version: 12.6     |\n",
      "|-----------------------------------------+------------------------+----------------------+\n",
      "| GPU  Name                 Persistence-M | Bus-Id          Disp.A | Volatile Uncorr. ECC |\n",
      "| Fan  Temp   Perf          Pwr:Usage/Cap |           Memory-Usage | GPU-Util  Compute M. |\n",
      "|                                         |                        |               MIG M. |\n",
      "|=========================================+========================+======================|\n",
      "|   0  NVIDIA GeForce GTX 1050 Ti     Off |   00000000:01:00.0 Off |                  N/A |\n",
      "| N/A   39C    P8             N/A / ERR!  |       4MiB /   4096MiB |      0%      Default |\n",
      "|                                         |                        |                  N/A |\n",
      "+-----------------------------------------+------------------------+----------------------+\n",
      "                                                                                         \n",
      "+-----------------------------------------------------------------------------------------+\n",
      "| Processes:                                                                              |\n",
      "|  GPU   GI   CI        PID   Type   Process name                              GPU Memory |\n",
      "|        ID   ID                                                               Usage      |\n",
      "|=========================================================================================|\n",
      "|    0   N/A  N/A      2264      G   /usr/bin/gnome-shell                            1MiB |\n",
      "+-----------------------------------------------------------------------------------------+\n"
     ]
    }
   ],
   "source": [
    "!nvidia-smi"
   ]
  },
  {
   "cell_type": "code",
   "execution_count": 7,
   "metadata": {},
   "outputs": [
    {
     "name": "stdout",
     "output_type": "stream",
     "text": [
      "GPU 0: NVIDIA GeForce GTX 1050 Ti (UUID: GPU-b9a2dc58-db69-5164-1b51-3c9ce1e254bb)\n"
     ]
    }
   ],
   "source": [
    "!nvidia-smi -L"
   ]
  },
  {
   "cell_type": "markdown",
   "metadata": {},
   "source": [
    "**Environment configuration**"
   ]
  },
  {
   "cell_type": "code",
   "execution_count": 8,
   "metadata": {},
   "outputs": [],
   "source": [
    "# Run local o not\n",
    "PROJ_ROOT = os.getcwd()\n",
    "local = True if os.path.basename(PROJ_ROOT) == 'notebooks' else False\n",
    "\n",
    "# Directories\n",
    "if not local:\n",
    "  os.makedirs('data/processed', exist_ok=True)\n",
    "  os.makedirs('models', exist_ok=True)\n",
    "  data_relative_path ='data'\n",
    "  models_relative_path = 'models'\n",
    "else:\n",
    "  data_relative_path ='../data'\n",
    "  models_relative_path = '../models'\n",
    "\n",
    "DATA_DIR = os.path.join(PROJ_ROOT, data_relative_path)\n",
    "MODELS_DIR = os.path.join(PROJ_ROOT, models_relative_path)\n",
    "PROCESSED_DATA_DIR = os.path.join(DATA_DIR, 'processed')"
   ]
  },
  {
   "cell_type": "code",
   "execution_count": 14,
   "metadata": {},
   "outputs": [
    {
     "name": "stdout",
     "output_type": "stream",
     "text": [
      "\u001b[93m WARNING: Configuration is set on DEBUG! \u001b[0m\n"
     ]
    }
   ],
   "source": [
    "class CFG:\n",
    "  DEBUG = True\n",
    "  FRACTION = 0.01 if DEBUG else 1.0\n",
    "\n",
    "  # Model\n",
    "  MODEL_SIZE = \"n\"\n",
    "  PRETRAINED = True\n",
    "\n",
    "  # Clases\n",
    "  CLASSES = ['hard_hat',\n",
    "            'no_hard_hat',\n",
    "            'no_safety_harness',\n",
    "            'no_safety_vest',\n",
    "            'person',\n",
    "            'safety_harness',\n",
    "            'safety_vest']\n",
    "  NUM_CLASSES_TO_TRAIN = len(CLASSES)\n",
    "\n",
    "  # Training\n",
    "  EPOCHS = 4 if DEBUG else 500\n",
    "\n",
    "  # Dataset\n",
    "  DATASET_VERSION = 5\n",
    "  DATASET_NAME = f\"ppe_dataset_v{DATASET_VERSION}\"\n",
    "  DATASET_PATH = os.path.join(PROCESSED_DATA_DIR, DATASET_NAME)\n",
    "\n",
    "  # Output dir\n",
    "  OUTPUT_DIR = MODELS_DIR\n",
    "\n",
    "if not CFG.DEBUG:\n",
    "  print('\\033[34m INFO: This will take several minutes! \\033[0m')\n",
    "else:\n",
    "  print('\\033[93m WARNING: Configuration is set on DEBUG! \\033[0m')"
   ]
  },
  {
   "cell_type": "markdown",
   "metadata": {},
   "source": [
    "## **Import dataset**"
   ]
  },
  {
   "cell_type": "code",
   "execution_count": 7,
   "metadata": {},
   "outputs": [],
   "source": [
    "# Login into roboflow\n",
    "roboflow.login()\n",
    "\n",
    "rf = roboflow.Roboflow()\n",
    "\n",
    "project = rf.workspace(\"deeplearning-cwudo\").project(\"yolo_ppe_detection\")\n",
    "version = project.version(CFG.DATASET_VERSION)\n",
    "dataset = version.download(model_format=\"yolov8\", location=CFG.DATASET_PATH, overwrite=True)"
   ]
  },
  {
   "cell_type": "code",
   "execution_count": 4,
   "metadata": {},
   "outputs": [
    {
     "name": "stdout",
     "output_type": "stream",
     "text": [
      "names:\n",
      "- hard_hat\n",
      "- no_hard_hat\n",
      "- no_safety_harness\n",
      "- no_safety_vest\n",
      "- person\n",
      "- safety_harness\n",
      "- safety_vest\n",
      "nc: 7\n",
      "roboflow:\n",
      "  license: CC BY 4.0\n",
      "  project: yolo_ppe_detection\n",
      "  url: https://universe.roboflow.com/deeplearning-cwudo/yolo_ppe_detection/dataset/1\n",
      "  version: 1\n",
      "  workspace: deeplearning-cwudo\n",
      "test: /home/harvey/Documents/yolo_ppe_detection/notebooks/../data/processed/ppe_dataset_v1/test/images\n",
      "train: /home/harvey/Documents/yolo_ppe_detection/notebooks/../data/processed/ppe_dataset_v1/train/images\n",
      "val: /home/harvey/Documents/yolo_ppe_detection/notebooks/../data/processed/ppe_dataset_v1/valid/images\n",
      "\n"
     ]
    }
   ],
   "source": [
    "# Modify data yaml file\n",
    "def modify_yaml_file(file_path):\n",
    "  with open(file_path, 'r+') as file:\n",
    "    try:\n",
    "      data = yaml.safe_load(file)\n",
    "      file.seek(0)\n",
    "      file.truncate(0)\n",
    "\n",
    "      data[\"train\"] = os.path.join(CFG.DATASET_PATH, \"train/images\")\n",
    "      data[\"val\"] = os.path.join(CFG.DATASET_PATH, \"valid/images\")\n",
    "      data[\"test\"] = os.path.join(CFG.DATASET_PATH, \"test/images\")\n",
    "\n",
    "      yaml.dump(data, file)\n",
    "      yaml_data = yaml.dump(data, default_style=False)\n",
    "      print(yaml_data)\n",
    "\n",
    "    except yaml.YAMLError as e:\n",
    "      print('Error reading YAML: ', e)\n",
    "\n",
    "  file.close()\n",
    "\n",
    "data_file_path = os.path.join(CFG.DATASET_PATH, 'data.yaml')\n",
    "modify_yaml_file(data_file_path)"
   ]
  },
  {
   "cell_type": "markdown",
   "metadata": {},
   "source": [
    "## **Training**"
   ]
  },
  {
   "cell_type": "markdown",
   "metadata": {},
   "source": [
    "**Download YOLOv8 base models**"
   ]
  },
  {
   "cell_type": "code",
   "execution_count": 10,
   "metadata": {},
   "outputs": [
    {
     "name": "stdout",
     "output_type": "stream",
     "text": [
      "The model yolov8n.pt already exists!\n"
     ]
    }
   ],
   "source": [
    "def donwload_base_model(model_size = \"n\", pretrained = True):\n",
    "  base_models_dir_path = os.path.join(CFG.OUTPUT_DIR, 'base')\n",
    "  os.makedirs(base_models_dir_path, exist_ok=True)\n",
    "\n",
    "  model_ext = \"pt\" if pretrained else \"yaml\"\n",
    "  model_name = f\"yolov8{model_size}.{model_ext}\"\n",
    "\n",
    "  model_file = os.path.join(base_models_dir_path, model_name)\n",
    "  if not pretrained:\n",
    "    model_file = model_name\n",
    "    print(f\"Empty {model_file} was charged.\")\n",
    "\n",
    "  else:\n",
    "    if model_name not in os.listdir(base_models_dir_path):\n",
    "      print(f'Downloading {model_name} ...')\n",
    "      try:\n",
    "        urllib.request.urlretrieve(f\"https://github.com/ultralytics/assets/releases/download/v8.2.0/{model_name}\", model_file)\n",
    "      except:\n",
    "        print(f'Something went wrong with downloading ...')\n",
    "    else:\n",
    "      print(f'The model {model_name} already exists!')\n",
    "  return model_file, model_name\n",
    "\n",
    "model_file, model_name = donwload_base_model(model_size=CFG.MODEL_SIZE, pretrained=CFG.PRETRAINED)"
   ]
  },
  {
   "cell_type": "markdown",
   "metadata": {},
   "source": [
    "**Project configuration**"
   ]
  },
  {
   "cell_type": "code",
   "execution_count": 11,
   "metadata": {},
   "outputs": [
    {
     "name": "stdout",
     "output_type": "stream",
     "text": [
      "Project name:\t\t train_yolov8n_ppe_detection_debug\n",
      "Project path:\t\t /home/harvey/Documents/yolo_ppe_detection/notebooks/../models/train_yolov8n_ppe_detection_debug\n",
      "Train name:\t\t pt_10_epochs\n",
      "Model name:\t\t yolov8n.pt\n"
     ]
    }
   ],
   "source": [
    "# Project name conf\n",
    "model_name_splited = model_name.split('.')\n",
    "project_name = f\"train_{model_name_splited[0]}_ppe_detection{'_debug' if CFG.DEBUG else ''}\"\n",
    "project_path = os.path.join(CFG.OUTPUT_DIR, project_name)\n",
    "train_name = f\"{model_name_splited[1]}_{CFG.EPOCHS}_epochs\"\n",
    "print(\"Project name:\\t\\t\", project_name)\n",
    "print(\"Project path:\\t\\t\", project_path)\n",
    "print(\"Train name:\\t\\t\", train_name)\n",
    "print(\"Model name:\\t\\t\", model_name)"
   ]
  },
  {
   "cell_type": "markdown",
   "metadata": {},
   "source": [
    "**Commet ML configuration**"
   ]
  },
  {
   "cell_type": "code",
   "execution_count": null,
   "metadata": {},
   "outputs": [],
   "source": [
    "# Commet config\n",
    "comet_ml.login()\n",
    "experiment_config = comet_ml.ExperimentConfig(name=train_name)\n",
    "exp = comet_ml.start(project_name=project_name, experiment_config=experiment_config)"
   ]
  },
  {
   "cell_type": "markdown",
   "metadata": {},
   "source": [
    "**Training configuration**"
   ]
  },
  {
   "cell_type": "code",
   "execution_count": 25,
   "metadata": {},
   "outputs": [
    {
     "name": "stdout",
     "output_type": "stream",
     "text": [
      "epochs : 3\n",
      "patience : 50\n",
      "batch : 32\n",
      "imgsz : 640\n",
      "save : True\n",
      "save_period : -1\n",
      "cache : True\n",
      "device : [0, 1]\n",
      "project : /home/harvey/Documents/yolo_ppe_detection/notebooks/../models/train_yolov8n_ppe_detection_test\n",
      "name : pt_3_epochs\n",
      "exist_ok : False\n",
      "pretrained : True\n",
      "optimizer : auto\n",
      "resume : False\n",
      "fraction : 0.01\n",
      "profile : False\n",
      "lr0 : 0.01\n",
      "lrf : 0.01\n",
      "momentum : 0.937\n",
      "val : True\n",
      "iou : 0.8\n",
      "augment : True\n",
      "plots : True\n"
     ]
    }
   ],
   "source": [
    "cfg_train = {\n",
    "  \"data\": data_file_path,\n",
    "  \"epochs\": CFG.EPOCHS,\n",
    "  \"patience\": 50,\n",
    "  \"batch\": -1,\n",
    "  \"imgsz\": 640,\n",
    "  \"save\": True,\n",
    "  \"save_period\": -1,\n",
    "  \"cache\": True,\n",
    "  \"device\": [0],\n",
    "  \"project\": project_path, # kaggle -> project_name, colab -> project_path\n",
    "  \"name\": train_name,\n",
    "  \"exist_ok\": False,\n",
    "  \"pretrained\": True,\n",
    "  \"optimizer\": \"auto\",\n",
    "  \"resume\": False,\n",
    "  \"fraction\": CFG.FRACTION,\n",
    "  \"profile\": False,\n",
    "  \"lr0\": 0.01,\n",
    "  \"lrf\": 0.01,\n",
    "  \"momentum\": 0.937,\n",
    "  \"val\": True,\n",
    "  \"iou\": 0.8,\n",
    "  \"augment\": True,\n",
    "  \"plots\": True\n",
    "}\n",
    "\n",
    "for key, value in cfg_train.items():\n",
    "    print(key, \":\", value)"
   ]
  },
  {
   "cell_type": "markdown",
   "metadata": {},
   "source": [
    "**Load the model**"
   ]
  },
  {
   "cell_type": "code",
   "execution_count": 26,
   "metadata": {},
   "outputs": [],
   "source": [
    "model = YOLO(model_file)"
   ]
  },
  {
   "cell_type": "markdown",
   "metadata": {},
   "source": [
    "**Model information**"
   ]
  },
  {
   "cell_type": "code",
   "execution_count": 27,
   "metadata": {},
   "outputs": [
    {
     "name": "stdout",
     "output_type": "stream",
     "text": [
      "YOLOv8n summary: 225 layers, 3,157,200 parameters, 0 gradients, 8.9 GFLOPs\n"
     ]
    },
    {
     "data": {
      "text/plain": [
       "(225, 3157200, 0, 8.8575488)"
      ]
     },
     "execution_count": 27,
     "metadata": {},
     "output_type": "execute_result"
    }
   ],
   "source": [
    "model.info()"
   ]
  },
  {
   "cell_type": "markdown",
   "metadata": {},
   "source": [
    "**Model training**"
   ]
  },
  {
   "cell_type": "code",
   "execution_count": null,
   "metadata": {},
   "outputs": [
    {
     "name": "stdout",
     "output_type": "stream",
     "text": [
      "New https://pypi.org/project/ultralytics/8.3.49 available 😃 Update with 'pip install -U ultralytics'\n",
      "Ultralytics YOLOv8.2.103 🚀 Python-3.12.7 torch-2.5.1+cu124 CUDA:0 (NVIDIA GeForce GTX 1050 Ti, 4034MiB)\n",
      "\u001b[34m\u001b[1mengine/trainer: \u001b[0mtask=detect, mode=train, model=/home/harvey/Documents/yolo_ppe_detection/notebooks/../models/base/yolov8n.pt, data=/home/harvey/Documents/yolo_ppe_detection/notebooks/../data/processed/ppe_dataset_v1/data.yaml, epochs=3, time=None, patience=20, batch=8, imgsz=640, save=True, save_period=-1, cache=True, device=0, workers=8, project=/home/harvey/Documents/yolo_ppe_detection/notebooks/../models/yolov8n_ppe_detection_test, name=pt_3_epochs2, exist_ok=False, pretrained=True, optimizer=Adam, verbose=True, seed=0, deterministic=True, single_cls=False, rect=False, cos_lr=False, close_mosaic=10, resume=False, amp=True, fraction=0.01, profile=False, freeze=None, multi_scale=False, overlap_mask=True, mask_ratio=4, dropout=0.0, val=True, split=val, save_json=False, save_hybrid=False, conf=None, iou=0.8, max_det=300, half=False, dnn=False, plots=True, source=None, vid_stride=1, stream_buffer=False, visualize=False, augment=True, agnostic_nms=False, classes=None, retina_masks=False, embed=None, show=False, save_frames=False, save_txt=False, save_conf=False, save_crop=False, show_labels=True, show_conf=True, show_boxes=True, line_width=None, format=torchscript, keras=False, optimize=False, int8=False, dynamic=False, simplify=True, opset=None, workspace=4, nms=False, lr0=0.01, lrf=0.01, momentum=0.937, weight_decay=0.0005, warmup_epochs=3.0, warmup_momentum=0.8, warmup_bias_lr=0.1, box=7.5, cls=0.5, dfl=1.5, pose=12.0, kobj=1.0, label_smoothing=0.0, nbs=64, hsv_h=0.015, hsv_s=0.7, hsv_v=0.4, degrees=0.0, translate=0.1, scale=0.5, shear=0.0, perspective=0.0, flipud=0.0, fliplr=0.5, bgr=0.0, mosaic=1.0, mixup=0.0, copy_paste=0.0, auto_augment=randaugment, erasing=0.4, crop_fraction=1.0, cfg=None, tracker=botsort.yaml, save_dir=/home/harvey/Documents/yolo_ppe_detection/notebooks/../models/yolov8n_ppe_detection_test/pt_3_epochs2\n",
      "Overriding model.yaml nc=80 with nc=7\n",
      "\n",
      "                   from  n    params  module                                       arguments                     \n",
      "  0                  -1  1       464  ultralytics.nn.modules.conv.Conv             [3, 16, 3, 2]                 \n",
      "  1                  -1  1      4672  ultralytics.nn.modules.conv.Conv             [16, 32, 3, 2]                \n",
      "  2                  -1  1      7360  ultralytics.nn.modules.block.C2f             [32, 32, 1, True]             \n",
      "  3                  -1  1     18560  ultralytics.nn.modules.conv.Conv             [32, 64, 3, 2]                \n",
      "  4                  -1  2     49664  ultralytics.nn.modules.block.C2f             [64, 64, 2, True]             \n",
      "  5                  -1  1     73984  ultralytics.nn.modules.conv.Conv             [64, 128, 3, 2]               \n",
      "  6                  -1  2    197632  ultralytics.nn.modules.block.C2f             [128, 128, 2, True]           \n",
      "  7                  -1  1    295424  ultralytics.nn.modules.conv.Conv             [128, 256, 3, 2]              \n",
      "  8                  -1  1    460288  ultralytics.nn.modules.block.C2f             [256, 256, 1, True]           \n",
      "  9                  -1  1    164608  ultralytics.nn.modules.block.SPPF            [256, 256, 5]                 \n",
      " 10                  -1  1         0  torch.nn.modules.upsampling.Upsample         [None, 2, 'nearest']          \n",
      " 11             [-1, 6]  1         0  ultralytics.nn.modules.conv.Concat           [1]                           \n",
      " 12                  -1  1    148224  ultralytics.nn.modules.block.C2f             [384, 128, 1]                 \n",
      " 13                  -1  1         0  torch.nn.modules.upsampling.Upsample         [None, 2, 'nearest']          \n",
      " 14             [-1, 4]  1         0  ultralytics.nn.modules.conv.Concat           [1]                           \n",
      " 15                  -1  1     37248  ultralytics.nn.modules.block.C2f             [192, 64, 1]                  \n",
      " 16                  -1  1     36992  ultralytics.nn.modules.conv.Conv             [64, 64, 3, 2]                \n",
      " 17            [-1, 12]  1         0  ultralytics.nn.modules.conv.Concat           [1]                           \n",
      " 18                  -1  1    123648  ultralytics.nn.modules.block.C2f             [192, 128, 1]                 \n",
      " 19                  -1  1    147712  ultralytics.nn.modules.conv.Conv             [128, 128, 3, 2]              \n",
      " 20             [-1, 9]  1         0  ultralytics.nn.modules.conv.Concat           [1]                           \n",
      " 21                  -1  1    493056  ultralytics.nn.modules.block.C2f             [384, 256, 1]                 \n",
      " 22        [15, 18, 21]  1    752677  ultralytics.nn.modules.head.Detect           [7, [64, 128, 256]]           \n",
      "Model summary: 225 layers, 3,012,213 parameters, 3,012,197 gradients, 8.2 GFLOPs\n",
      "\n",
      "Transferred 319/355 items from pretrained weights\n"
     ]
    },
    {
     "name": "stderr",
     "output_type": "stream",
     "text": [
      "\u001b[1;38;5;214mCOMET WARNING:\u001b[0m To get all data logged automatically, import comet_ml before the following modules: torch.\n",
      "\u001b[1;38;5;214mCOMET WARNING:\u001b[0m As you are running in a Jupyter environment, you will need to call `experiment.end()` when finished to ensure all metrics and code are logged before exiting.\n",
      "\u001b[1;38;5;39mCOMET INFO:\u001b[0m Experiment is live on comet.com https://www.comet.com/alexpfoccori/home-harvey-documents-yolo-ppe-detection-notebooks-models-yolov8n-ppe-detection-test/d919170f85d74236b9b583d01c12928e\n",
      "\n"
     ]
    },
    {
     "name": "stdout",
     "output_type": "stream",
     "text": [
      "Freezing layer 'model.22.dfl.conv.weight'\n",
      "\u001b[34m\u001b[1mAMP: \u001b[0mrunning Automatic Mixed Precision (AMP) checks with YOLOv8n...\n",
      "\u001b[34m\u001b[1mAMP: \u001b[0mchecks passed ✅\n"
     ]
    },
    {
     "name": "stderr",
     "output_type": "stream",
     "text": [
      "\u001b[34m\u001b[1mtrain: \u001b[0mScanning /home/harvey/Documents/yolo_ppe_detection/data/processed/ppe_dataset_v1/train/labels.cache... 18 images, 0 backgrounds, 0 corrupt: 100%|██████████| 18/18 [00:00<?, ?it/s]\n"
     ]
    },
    {
     "name": "stdout",
     "output_type": "stream",
     "text": [
      "WARNING ⚠️ cache='ram' may produce non-deterministic training results. Consider cache='disk' as a deterministic alternative if your disk space allows.\n"
     ]
    },
    {
     "name": "stderr",
     "output_type": "stream",
     "text": [
      "\u001b[34m\u001b[1mtrain: \u001b[0mCaching images (0.0GB RAM): 100%|██████████| 18/18 [00:00<00:00, 464.27it/s]\n",
      "\u001b[34m\u001b[1mval: \u001b[0mScanning /home/harvey/Documents/yolo_ppe_detection/data/processed/ppe_dataset_v1/valid/labels.cache... 520 images, 0 backgrounds, 0 corrupt: 100%|██████████| 520/520 [00:00<?, ?it/s]\n"
     ]
    },
    {
     "name": "stdout",
     "output_type": "stream",
     "text": [
      "WARNING ⚠️ cache='ram' may produce non-deterministic training results. Consider cache='disk' as a deterministic alternative if your disk space allows.\n"
     ]
    },
    {
     "name": "stderr",
     "output_type": "stream",
     "text": [
      "\u001b[34m\u001b[1mval: \u001b[0mCaching images (0.6GB RAM): 100%|██████████| 520/520 [00:04<00:00, 126.27it/s]\n"
     ]
    },
    {
     "name": "stdout",
     "output_type": "stream",
     "text": [
      "Plotting labels to /home/harvey/Documents/yolo_ppe_detection/notebooks/../models/yolov8n_ppe_detection_test/pt_3_epochs2/labels.jpg... \n",
      "\u001b[34m\u001b[1moptimizer:\u001b[0m Adam(lr=0.01, momentum=0.937) with parameter groups 57 weight(decay=0.0), 64 weight(decay=0.0005), 63 bias(decay=0.0)\n",
      "Image sizes 640 train, 640 val\n",
      "Using 8 dataloader workers\n",
      "Logging results to \u001b[1m/home/harvey/Documents/yolo_ppe_detection/notebooks/../models/yolov8n_ppe_detection_test/pt_3_epochs2\u001b[0m\n",
      "Starting training for 3 epochs...\n",
      "\n",
      "      Epoch    GPU_mem   box_loss   cls_loss   dfl_loss  Instances       Size\n"
     ]
    },
    {
     "name": "stderr",
     "output_type": "stream",
     "text": [
      "        1/3      1.18G        1.9      3.644      2.008         17        640: 100%|██████████| 3/3 [00:10<00:00,  3.41s/it]\n",
      "                 Class     Images  Instances      Box(P          R      mAP50  mAP50-95): 100%|██████████| 33/33 [00:17<00:00,  1.90it/s]\n"
     ]
    },
    {
     "name": "stdout",
     "output_type": "stream",
     "text": [
      "                   all        520       4287     0.0096      0.306     0.0455     0.0278\n",
      "\n",
      "      Epoch    GPU_mem   box_loss   cls_loss   dfl_loss  Instances       Size\n"
     ]
    },
    {
     "name": "stderr",
     "output_type": "stream",
     "text": [
      "        2/3      1.18G      1.538      3.634      1.813         26        640: 100%|██████████| 3/3 [00:02<00:00,  1.12it/s]\n",
      "                 Class     Images  Instances      Box(P          R      mAP50  mAP50-95): 100%|██████████| 33/33 [00:08<00:00,  3.84it/s]\n"
     ]
    },
    {
     "name": "stdout",
     "output_type": "stream",
     "text": [
      "                   all        520       4287     0.0128      0.218     0.0711     0.0409\n",
      "\n",
      "      Epoch    GPU_mem   box_loss   cls_loss   dfl_loss  Instances       Size\n"
     ]
    },
    {
     "name": "stderr",
     "output_type": "stream",
     "text": [
      "        3/3      1.22G      1.327      3.193        1.6         27        640: 100%|██████████| 3/3 [00:00<00:00,  3.13it/s]\n",
      "                 Class     Images  Instances      Box(P          R      mAP50  mAP50-95): 100%|██████████| 33/33 [00:08<00:00,  3.78it/s]\n"
     ]
    },
    {
     "name": "stdout",
     "output_type": "stream",
     "text": [
      "                   all        520       4287    0.00157      0.203     0.0358     0.0153\n",
      "\n",
      "3 epochs completed in 0.016 hours.\n",
      "Optimizer stripped from /home/harvey/Documents/yolo_ppe_detection/notebooks/../models/yolov8n_ppe_detection_test/pt_3_epochs2/weights/last.pt, 6.2MB\n"
     ]
    }
   ],
   "source": [
    "results = model.train(**cfg_train)\n",
    "exp.end()"
   ]
  },
  {
   "cell_type": "markdown",
   "metadata": {},
   "source": [
    "## **Train Results**"
   ]
  },
  {
   "cell_type": "markdown",
   "metadata": {},
   "source": [
    "**Import libraries**"
   ]
  },
  {
   "cell_type": "code",
   "execution_count": null,
   "metadata": {},
   "outputs": [],
   "source": [
    "import glob\n",
    "import matplotlib.pyplot as plt\n",
    "import pandas as pd\n",
    "\n",
    "from PIL import Image"
   ]
  },
  {
   "cell_type": "markdown",
   "metadata": {},
   "source": [
    "**Results**"
   ]
  },
  {
   "cell_type": "code",
   "execution_count": null,
   "metadata": {},
   "outputs": [],
   "source": [
    "result_path = os.path.join(model.overrides.get(\"project\"), model.overrides.get(\"name\"))\n",
    "result_path"
   ]
  },
  {
   "cell_type": "markdown",
   "metadata": {},
   "source": [
    "**Images of the results**"
   ]
  },
  {
   "cell_type": "code",
   "execution_count": null,
   "metadata": {},
   "outputs": [],
   "source": [
    "image_files = [\n",
    "  i for i in\n",
    "  glob.glob(f\"{result_path}/*.png\") + glob.glob(f\"{result_path}/*.jpg\")\n",
    "  if \"batch\" not in i\n",
    "]\n",
    "\n",
    "image_files"
   ]
  },
  {
   "cell_type": "markdown",
   "metadata": {},
   "source": [
    "**Plot images of the results**"
   ]
  },
  {
   "cell_type": "code",
   "execution_count": null,
   "metadata": {},
   "outputs": [],
   "source": [
    "for image in sorted(image_files):\n",
    "  image_name = image.split(\"/\")[-1]\n",
    "  print(image_name)\n",
    "\n",
    "  img = Image.open(image)\n",
    "  plt.imshow(img)\n",
    "  plt.axis(\"off\")\n",
    "  plt.show()"
   ]
  },
  {
   "cell_type": "markdown",
   "metadata": {},
   "source": [
    "**Read CSV result**"
   ]
  },
  {
   "cell_type": "code",
   "execution_count": null,
   "metadata": {},
   "outputs": [],
   "source": [
    "df = pd.read_csv(f\"{result_path}/results.csv\")\n",
    "df = df.rename(columns=lambda x: x.replace(\" \", \"\"))\n",
    "df"
   ]
  }
 ],
 "metadata": {
  "kernelspec": {
   "display_name": "yolo_detection",
   "language": "python",
   "name": "python3"
  },
  "language_info": {
   "codemirror_mode": {
    "name": "ipython",
    "version": 3
   },
   "file_extension": ".py",
   "mimetype": "text/x-python",
   "name": "python",
   "nbconvert_exporter": "python",
   "pygments_lexer": "ipython3",
   "version": "3.12.7"
  }
 },
 "nbformat": 4,
 "nbformat_minor": 4
}
